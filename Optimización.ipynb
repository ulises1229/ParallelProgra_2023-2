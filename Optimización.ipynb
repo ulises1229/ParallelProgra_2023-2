{
  "nbformat": 4,
  "nbformat_minor": 0,
  "metadata": {
    "colab": {
      "name": "Optimización.ipynb",
      "provenance": [],
      "private_outputs": true,
      "collapsed_sections": [],
      "authorship_tag": "ABX9TyPfG0DugMwp1nrWcMRZDar/",
      "include_colab_link": true
    },
    "kernelspec": {
      "name": "python3",
      "display_name": "Python 3"
    }
  },
  "cells": [
    {
      "cell_type": "markdown",
      "metadata": {
        "id": "view-in-github",
        "colab_type": "text"
      },
      "source": [
        "<a href=\"https://colab.research.google.com/github/ulises1229/ComputacionIII-2021-1/blob/master/Optimizaci%C3%B3n.ipynb\" target=\"_parent\"><img src=\"https://colab.research.google.com/assets/colab-badge.svg\" alt=\"Open In Colab\"/></a>"
      ]
    },
    {
      "cell_type": "markdown",
      "metadata": {
        "id": "0It0-sd5yFzr",
        "colab_type": "text"
      },
      "source": [
        "# Computación I - UNIDAD I\n",
        "+ Autor: Ulises Olivares\n",
        "+ uolivares@unam.mx\n",
        "+ 23 de septiembre de 2020\n",
        "\n",
        "#Optimización en una dimensión\n",
        "+ El método de newton\n",
        "+ El método de la sección aurea\n",
        "+ Métodos adicionales"
      ]
    },
    {
      "cell_type": "markdown",
      "metadata": {
        "id": "tc1Uai9i2d-x",
        "colab_type": "text"
      },
      "source": [
        "## Búsqueda ingenua (Exhaustiva)\n",
        "\n",
        "+ Se deberá realizar una búsqueda exhaustiva en un intervalo cerrado [-1000, 1000]\n",
        "\n",
        "+ Se deberá evaluar la función y decidir cual es el punto máximo y mínimo de la función. \n",
        "\n",
        "¿Por donde iniciar?\n"
      ]
    },
    {
      "cell_type": "markdown",
      "metadata": {
        "id": "JFDbKjXm4Ny7",
        "colab_type": "text"
      },
      "source": [
        "### Ayudas\n",
        "    + Definición de una expresión (Función)\n",
        "    + Evaluación de una funciíon\n",
        "    + Graficación de una función"
      ]
    },
    {
      "cell_type": "code",
      "metadata": {
        "id": "EWXMxLac49-O",
        "colab_type": "code",
        "colab": {}
      },
      "source": [
        "# Importar librerías\n",
        "import numpy as np\n",
        "from sympy import *\n",
        "from sympy.abc import x, y\n",
        "import matplotlib.pyplot as plt\n",
        "\n",
        "# Habilitar impresión avanzada con LaTeX\n",
        "init_printing(use_latex='mathjax')\n",
        "\n",
        "# Definir una expresión simple\n",
        "func = x**2 + 2 \n",
        "print(func)\n",
        "display(func)\n",
        "\n",
        "# Sustituciones por un valor numérico\n",
        "display(\"Substitución x = 0\",func.subs(x, 1))\n",
        "\n"
      ],
      "execution_count": null,
      "outputs": []
    },
    {
      "cell_type": "markdown",
      "metadata": {
        "id": "jmK1_BFn3Exw",
        "colab_type": "text"
      },
      "source": [
        "#### Graficación de una función 2D usando matplotlib"
      ]
    },
    {
      "cell_type": "code",
      "metadata": {
        "id": "kLWyFGZXyBKC",
        "colab_type": "code",
        "colab": {}
      },
      "source": [
        "\n",
        "# Habilitar impresión avanzada con LaTeX\n",
        "init_printing(use_latex='mathjax')\n",
        "\n",
        "\n",
        "# Genera un número de elementos de la Variable independiente x\n",
        "x_a = np.arange(-10000, 10001)\n",
        "\n",
        "\n",
        "# Definir una lista para la variable independiente\n",
        "y_a = np.zeros(len(x_a))\n",
        "\n",
        "for i in x_a:\n",
        "    y = func.subs(x,i)\n",
        "\n",
        "plt.plot(x,y)\n",
        "\n",
        "plt.show()\n",
        "\n",
        "\n"
      ],
      "execution_count": null,
      "outputs": []
    }
  ]
}